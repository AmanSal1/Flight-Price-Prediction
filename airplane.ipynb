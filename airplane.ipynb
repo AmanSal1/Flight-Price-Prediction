{
  "nbformat": 4,
  "nbformat_minor": 0,
  "metadata": {
    "colab": {
      "provenance": []
    },
    "kernelspec": {
      "name": "python3",
      "display_name": "Python 3"
    },
    "language_info": {
      "name": "python"
    }
  },
  "cells": [
    {
      "cell_type": "code",
      "execution_count": 1,
      "metadata": {
        "id": "1-hRgRHnP54W"
      },
      "outputs": [],
      "source": [
        "#Standard python libraries for ML project\n",
        "\n",
        "\n",
        "import numpy as np\n",
        "import pandas as pd\n",
        "import matplotlib.pyplot as plt\n",
        "import seaborn as sns \n",
        "import math\n",
        "import datetime\n",
        "from sklearn.preprocessing import OrdinalEncoder\n",
        "import seaborn as sns\n",
        "import warnings\n",
        "warnings.filterwarnings(\"ignore\")"
      ]
    },
    {
      "cell_type": "code",
      "source": [
        "df2 = pd.read_csv('business.csv')  # Data 1 \n",
        "df1 = pd.read_csv('economy.csv')   # Data 2\n",
        "df = pd.concat([df1,df2])          # Concatenating the above two data "
      ],
      "metadata": {
        "id": "btZ-0X61bZ2u"
      },
      "execution_count": 2,
      "outputs": []
    },
    {
      "cell_type": "code",
      "source": [
        "df.isnull().sum()"
      ],
      "metadata": {
        "colab": {
          "base_uri": "https://localhost:8080/"
        },
        "id": "lWPIH2o4MpjY",
        "outputId": "b12323a6-168f-4228-e733-0127aec36685"
      },
      "execution_count": 3,
      "outputs": [
        {
          "output_type": "execute_result",
          "data": {
            "text/plain": [
              "date          0\n",
              "airline       0\n",
              "ch_code       0\n",
              "num_code      0\n",
              "dep_time      0\n",
              "from          0\n",
              "time_taken    0\n",
              "stop          0\n",
              "arr_time      0\n",
              "to            0\n",
              "price         0\n",
              "dtype: int64"
            ]
          },
          "metadata": {},
          "execution_count": 3
        }
      ]
    },
    {
      "cell_type": "code",
      "source": [
        "df.info()"
      ],
      "metadata": {
        "colab": {
          "base_uri": "https://localhost:8080/"
        },
        "id": "ZDQb4PpFlSdw",
        "outputId": "204d21d1-6f76-4fa6-f92e-4438b2954a19"
      },
      "execution_count": 4,
      "outputs": [
        {
          "output_type": "stream",
          "name": "stdout",
          "text": [
            "<class 'pandas.core.frame.DataFrame'>\n",
            "Int64Index: 300261 entries, 0 to 93486\n",
            "Data columns (total 11 columns):\n",
            " #   Column      Non-Null Count   Dtype \n",
            "---  ------      --------------   ----- \n",
            " 0   date        300261 non-null  object\n",
            " 1   airline     300261 non-null  object\n",
            " 2   ch_code     300261 non-null  object\n",
            " 3   num_code    300261 non-null  int64 \n",
            " 4   dep_time    300261 non-null  object\n",
            " 5   from        300261 non-null  object\n",
            " 6   time_taken  300261 non-null  object\n",
            " 7   stop        300261 non-null  object\n",
            " 8   arr_time    300261 non-null  object\n",
            " 9   to          300261 non-null  object\n",
            " 10  price       300261 non-null  object\n",
            "dtypes: int64(1), object(10)\n",
            "memory usage: 27.5+ MB\n"
          ]
        }
      ]
    },
    {
      "cell_type": "markdown",
      "source": [
        "DATA PREPROCESSING"
      ],
      "metadata": {
        "id": "XoNdoJXzjccM"
      }
    },
    {
      "cell_type": "code",
      "source": [
        "def rep(x):\n",
        "  a = x.replace(\"\\t\",\"\").replace(\"\\nVia\",\"\").replace(\"\\n\",\"\") \n",
        "  return a"
      ],
      "metadata": {
        "id": "JByFKvgbNT2G"
      },
      "execution_count": 5,
      "outputs": []
    },
    {
      "cell_type": "code",
      "source": [
        "df['stop1'] = df['stop'].apply(rep)\n",
        "df['stoppage'] = df['stop1'].str.split().str.get(0)"
      ],
      "metadata": {
        "id": "0TBhY5_aX5Ip"
      },
      "execution_count": 6,
      "outputs": []
    },
    {
      "cell_type": "code",
      "source": [
        "df['flight_number'] = df['ch_code'] + \"-\" + df['num_code'].astype(str)\n",
        "df['price1'] = df['price'].str.replace(\",\",\"\").astype(int)"
      ],
      "metadata": {
        "id": "wT2q6cYGbDpB"
      },
      "execution_count": 7,
      "outputs": []
    },
    {
      "cell_type": "code",
      "source": [
        "df['time_taken1'] = df['time_taken'].str.replace(\".\",\"\").str.replace(\"m\",\"\").str.replace(\"h \",\".\")\n",
        "df['time_taken1'] = df['time_taken1'].apply(lambda x :float(x))"
      ],
      "metadata": {
        "id": "0epIKScckGHK"
      },
      "execution_count": 8,
      "outputs": []
    },
    {
      "cell_type": "code",
      "source": [
        "df['class']= df['price1'].apply(lambda x :'economy' if x<18000 else 'business')"
      ],
      "metadata": {
        "id": "P8GvarN0kMxO"
      },
      "execution_count": 9,
      "outputs": []
    },
    {
      "cell_type": "markdown",
      "source": [
        "CONVERSION OF DATA TO DATE TIME \n"
      ],
      "metadata": {
        "id": "0dfTY3-0j0LM"
      }
    },
    {
      "cell_type": "code",
      "source": [
        "df['date'] = pd.to_datetime(df['date'])\n",
        "df['dep_time'] = pd.to_datetime(df['dep_time'])\n",
        "df['arr_time'] = pd.to_datetime(df['arr_time'])"
      ],
      "metadata": {
        "id": "5RnytTI2JAPd"
      },
      "execution_count": 10,
      "outputs": []
    },
    {
      "cell_type": "code",
      "source": [
        "# GETTING THE DAY , DATE , MONTH , HOUR , MINUTES OF ARRIVAL AND DEPARTURE \n",
        "df['Dep_day'] = df['date'].dt.day\n",
        "df['Dep_month'] = df['date'].dt.month\n",
        "df['Dep_hour'] = df['dep_time'].dt.hour\n",
        "df['Dep_min'] = df['dep_time'].dt.minute\n",
        "df['Arr_hour'] = df['arr_time'].dt.hour\n",
        "df['Arr_min'] = df['arr_time'].dt.minute"
      ],
      "metadata": {
        "id": "zzvUpQolREPN"
      },
      "execution_count": 11,
      "outputs": []
    },
    {
      "cell_type": "markdown",
      "source": [
        "DROPPING SOME OF THE COLUMNS WHICH ARE NOT IMPORTANT"
      ],
      "metadata": {
        "id": "Iy3fmYSknbLf"
      }
    },
    {
      "cell_type": "code",
      "source": [
        "df.drop(columns = ['date','ch_code','num_code','dep_time','time_taken','stop','arr_time','price','stop1','flight_number'],inplace =True)"
      ],
      "metadata": {
        "id": "7nI-M1x2l_Xq"
      },
      "execution_count": 12,
      "outputs": []
    },
    {
      "cell_type": "markdown",
      "source": [
        "DATA VISUALIZATION "
      ],
      "metadata": {
        "id": "KRwhULPAoIEE"
      }
    },
    {
      "cell_type": "code",
      "source": [
        "sns.heatmap(df.corr(), cmap=\"YlGnBu\", annot=True)"
      ],
      "metadata": {
        "colab": {
          "base_uri": "https://localhost:8080/",
          "height": 339
        },
        "id": "lsu5pxjNmeZo",
        "outputId": "75eba3b6-6a8f-41c9-b816-5e6a6e272752"
      },
      "execution_count": 13,
      "outputs": [
        {
          "output_type": "execute_result",
          "data": {
            "text/plain": [
              "<matplotlib.axes._subplots.AxesSubplot at 0x7fd95336f520>"
            ]
          },
          "metadata": {},
          "execution_count": 13
        },
        {
          "output_type": "display_data",
          "data": {
            "text/plain": [
              "<Figure size 432x288 with 2 Axes>"
            ],
            "image/png": "[encoded data removed]"
          },
          "metadata": {
            "needs_background": "light"
          }
        }
      ]
    },
    {
      "cell_type": "code",
      "source": [
        "\"\"\"AS WE CAN SEE THAT ONE AIRLINE HAS HIGHER PRICE RANGES AS COMPARED \n",
        "TO THE OTHER AIRLINE SO INSTEAD OF ONE HOT ENCODING WE WILL USE ORDINAL ENCODER TO GET BETTER RESULTS\"\"\"\n",
        "\n",
        "sns.catplot(y = \"price1\", x = \"airline\", data = df.sort_values(\"price1\", ascending = False), kind=\"boxen\", height = 4, aspect = 3)\n",
        "plt.show()"
      ],
      "metadata": {
        "colab": {
          "base_uri": "https://localhost:8080/",
          "height": 297
        },
        "id": "hD01HJ1YGmIe",
        "outputId": "57d68cc5-73ce-4923-fd44-8db19395ac52"
      },
      "execution_count": 14,
      "outputs": [
        {
          "output_type": "display_data",
          "data": {
            "text/plain": [
              "<Figure size 864x288 with 1 Axes>"
            ],
            "image/png": "[encoded data removed]"
          },
          "metadata": {
            "needs_background": "light"
          }
        }
      ]
    },
    {
      "cell_type": "code",
      "source": [
        "sns.catplot(y = \"price1\", x = \"class\", data = df.sort_values(\"price1\", ascending = False), kind=\"boxen\", height = 4, aspect = 3)\n",
        "plt.show()"
      ],
      "metadata": {
        "colab": {
          "base_uri": "https://localhost:8080/",
          "height": 297
        },
        "id": "HoJbEQ67pnLt",
        "outputId": "ea20268f-ec9a-4a08-e248-a2c1eba9b512"
      },
      "execution_count": 15,
      "outputs": [
        {
          "output_type": "display_data",
          "data": {
            "text/plain": [
              "<Figure size 864x288 with 1 Axes>"
            ],
            "image/png": "[encoded data removed]"
          },
          "metadata": {
            "needs_background": "light"
          }
        }
      ]
    },
    {
      "cell_type": "code",
      "source": [
        "sns.catplot(y = \"price1\", x = \"stoppage\", data = df.sort_values(\"price1\", ascending = False), kind=\"boxen\", height = 4, aspect = 3)\n",
        "plt.show()"
      ],
      "metadata": {
        "colab": {
          "base_uri": "https://localhost:8080/",
          "height": 297
        },
        "id": "qBDMPYj0p7LF",
        "outputId": "1c887392-d94b-436a-d3ec-1e5ecd09352c"
      },
      "execution_count": 16,
      "outputs": [
        {
          "output_type": "display_data",
          "data": {
            "text/plain": [
              "<Figure size 864x288 with 1 Axes>"
            ],
            "image/png": "[encoded data removed]"
          },
          "metadata": {
            "needs_background": "light"
          }
        }
      ]
    },
    {
      "cell_type": "markdown",
      "source": [
        "ONE HOT ENCODING AND ORDINAL ENCODING "
      ],
      "metadata": {
        "id": "OkqKYb27pt60"
      }
    },
    {
      "cell_type": "code",
      "source": [
        "df = pd.get_dummies(df, columns=['from','to']) "
      ],
      "metadata": {
        "id": "SS3bqZpcMFJr"
      },
      "execution_count": 17,
      "outputs": []
    },
    {
      "cell_type": "code",
      "source": [
        "le = OrdinalEncoder(categories=[['Trujet','StarAir','SpiceJet','AirAsia','GO FIRST','Indigo','Air India','Vistara']])\n",
        "df['airline'] = le.fit_transform(df[['airline']])"
      ],
      "metadata": {
        "id": "I9ScjYSLN5-U"
      },
      "execution_count": 18,
      "outputs": []
    },
    {
      "cell_type": "code",
      "source": [
        "le = OrdinalEncoder(categories=[['2+-stop','1-stop','non-stop']])\n",
        "df['stoppage'] = le.fit_transform(df[['stoppage']])"
      ],
      "metadata": {
        "id": "NqsNj2AzTfbK"
      },
      "execution_count": 19,
      "outputs": []
    },
    {
      "cell_type": "code",
      "source": [
        "le = OrdinalEncoder(categories=[['economy','business']])\n",
        "df['class'] = le.fit_transform(df[['class']])"
      ],
      "metadata": {
        "id": "V0lVgrWMUFGv"
      },
      "execution_count": 20,
      "outputs": []
    },
    {
      "cell_type": "markdown",
      "source": [
        "AFTER ALL THE DATA CLEANING AND PRE PROCESSING OUR DATA LOOKS LIKE THIS"
      ],
      "metadata": {
        "id": "TPG3cnBmqEsj"
      }
    },
    {
      "cell_type": "code",
      "source": [
        "df.head(3)"
      ],
      "metadata": {
        "colab": {
          "base_uri": "https://localhost:8080/",
          "height": 237
        },
        "id": "9ONNCtPwTDR_",
        "outputId": "93d75c31-2b2f-4ee4-d48a-7793846a1eba"
      },
      "execution_count": 21,
      "outputs": [
        {
          "output_type": "execute_result",
          "data": {
            "text/plain": [
              "   airline  stoppage  price1  time_taken1  class  Dep_day  Dep_month  \\\n",
              "0      2.0       2.0    5953          2.1    0.0        2         11   \n",
              "1      2.0       2.0    5953          2.2    0.0        2         11   \n",
              "2      3.0       2.0    5956          2.1    0.0        2         11   \n",
              "\n",
              "   Dep_hour  Dep_min  Arr_hour  ...  from_Delhi  from_Hyderabad  from_Kolkata  \\\n",
              "0        18       55        21  ...           1               0             0   \n",
              "1         6       20         8  ...           1               0             0   \n",
              "2         4       25         6  ...           1               0             0   \n",
              "\n",
              "   from_Mumbai  to_Bangalore  to_Chennai  to_Delhi  to_Hyderabad  to_Kolkata  \\\n",
              "0            0             0           0         0             0           0   \n",
              "1            0             0           0         0             0           0   \n",
              "2            0             0           0         0             0           0   \n",
              "\n",
              "   to_Mumbai  \n",
              "0          1  \n",
              "1          1  \n",
              "2          1  \n",
              "\n",
              "[3 rows x 23 columns]"
            ],
            "text/html": [
              "\n",
              "  <div id=\"df-a4358c04-ba25-42ae-8c9d-b164a8db6d2f\">\n",
              "    <div class=\"colab-df-container\">\n",
              "      <div>\n",
              "<style scoped>\n",
              "    .dataframe tbody tr th:only-of-type {\n",
              "        vertical-align: middle;\n",
              "    }\n",
              "\n",
              "    .dataframe tbody tr th {\n",
              "        vertical-align: top;\n",
              "    }\n",
              "\n",
              "    .dataframe thead th {\n",
              "        text-align: right;\n",
              "    }\n",
              "</style>\n",
              "<table border=\"1\" class=\"dataframe\">\n",
              "  <thead>\n",
              "    <tr style=\"text-align: right;\">\n",
              "      <th></th>\n",
              "      <th>airline</th>\n",
              "      <th>stoppage</th>\n",
              "      <th>price1</th>\n",
              "      <th>time_taken1</th>\n",
              "      <th>class</th>\n",
              "      <th>Dep_day</th>\n",
              "      <th>Dep_month</th>\n",
              "      <th>Dep_hour</th>\n",
              "      <th>Dep_min</th>\n",
              "      <th>Arr_hour</th>\n",
              "      <th>...</th>\n",
              "      <th>from_Delhi</th>\n",
              "      <th>from_Hyderabad</th>\n",
              "      <th>from_Kolkata</th>\n",
              "      <th>from_Mumbai</th>\n",
              "      <th>to_Bangalore</th>\n",
              "      <th>to_Chennai</th>\n",
              "      <th>to_Delhi</th>\n",
              "      <th>to_Hyderabad</th>\n",
              "      <th>to_Kolkata</th>\n",
              "      <th>to_Mumbai</th>\n",
              "    </tr>\n",
              "  </thead>\n",
              "  <tbody>\n",
              "    <tr>\n",
              "      <th>0</th>\n",
              "      <td>2.0</td>\n",
              "      <td>2.0</td>\n",
              "      <td>5953</td>\n",
              "      <td>2.1</td>\n",
              "      <td>0.0</td>\n",
              "      <td>2</td>\n",
              "      <td>11</td>\n",
              "      <td>18</td>\n",
              "      <td>55</td>\n",
              "      <td>21</td>\n",
              "      <td>...</td>\n",
              "      <td>1</td>\n",
              "      <td>0</td>\n",
              "      <td>0</td>\n",
              "      <td>0</td>\n",
              "      <td>0</td>\n",
              "      <td>0</td>\n",
              "      <td>0</td>\n",
              "      <td>0</td>\n",
              "      <td>0</td>\n",
              "      <td>1</td>\n",
              "    </tr>\n",
              "    <tr>\n",
              "      <th>1</th>\n",
              "      <td>2.0</td>\n",
              "      <td>2.0</td>\n",
              "      <td>5953</td>\n",
              "      <td>2.2</td>\n",
              "      <td>0.0</td>\n",
              "      <td>2</td>\n",
              "      <td>11</td>\n",
              "      <td>6</td>\n",
              "      <td>20</td>\n",
              "      <td>8</td>\n",
              "      <td>...</td>\n",
              "      <td>1</td>\n",
              "      <td>0</td>\n",
              "      <td>0</td>\n",
              "      <td>0</td>\n",
              "      <td>0</td>\n",
              "      <td>0</td>\n",
              "      <td>0</td>\n",
              "      <td>0</td>\n",
              "      <td>0</td>\n",
              "      <td>1</td>\n",
              "    </tr>\n",
              "    <tr>\n",
              "      <th>2</th>\n",
              "      <td>3.0</td>\n",
              "      <td>2.0</td>\n",
              "      <td>5956</td>\n",
              "      <td>2.1</td>\n",
              "      <td>0.0</td>\n",
              "      <td>2</td>\n",
              "      <td>11</td>\n",
              "      <td>4</td>\n",
              "      <td>25</td>\n",
              "      <td>6</td>\n",
              "      <td>...</td>\n",
              "      <td>1</td>\n",
              "      <td>0</td>\n",
              "      <td>0</td>\n",
              "      <td>0</td>\n",
              "      <td>0</td>\n",
              "      <td>0</td>\n",
              "      <td>0</td>\n",
              "      <td>0</td>\n",
              "      <td>0</td>\n",
              "      <td>1</td>\n",
              "    </tr>\n",
              "  </tbody>\n",
              "</table>\n",
              "<p>3 rows × 23 columns</p>\n",
              "</div>\n",
              "      <button class=\"colab-df-convert\" onclick=\"convertToInteractive('df-a4358c04-ba25-42ae-8c9d-b164a8db6d2f')\"\n",
              "              title=\"Convert this dataframe to an interactive table.\"\n",
              "              style=\"display:none;\">\n",
              "        \n",
              "  <svg xmlns=\"http://www.w3.org/2000/svg\" height=\"24px\"viewBox=\"0 0 24 24\"\n",
              "       width=\"24px\">\n",
              "    <path d=\"M0 0h24v24H0V0z\" fill=\"none\"/>\n",
              "    <path d=\"M18.56 5.44l.94 2.06.94-2.06 2.06-.94-2.06-.94-.94-2.06-.94 2.06-2.06.94zm-11 1L8.5 8.5l.94-2.06 2.06-.94-2.06-.94L8.5 2.5l-.94 2.06-2.06.94zm10 10l.94 2.06.94-2.06 2.06-.94-2.06-.94-.94-2.06-.94 2.06-2.06.94z\"/><path d=\"M17.41 7.96l-1.37-1.37c-.4-.4-.92-.59-1.43-.59-.52 0-1.04.2-1.43.59L10.3 9.45l-7.72 7.72c-.78.78-.78 2.05 0 2.83L4 21.41c.39.39.9.59 1.41.59.51 0 1.02-.2 1.41-.59l7.78-7.78 2.81-2.81c.8-.78.8-2.07 0-2.86zM5.41 20L4 18.59l7.72-7.72 1.47 1.35L5.41 20z\"/>\n",
              "  </svg>\n",
              "      </button>\n",
              "      \n",
              "  <style>\n",
              "    .colab-df-container {\n",
              "      display:flex;\n",
              "      flex-wrap:wrap;\n",
              "      gap: 12px;\n",
              "    }\n",
              "\n",
              "    .colab-df-convert {\n",
              "      background-color: #E8F0FE;\n",
              "      border: none;\n",
              "      border-radius: 50%;\n",
              "      cursor: pointer;\n",
              "      display: none;\n",
              "      fill: #1967D2;\n",
              "      height: 32px;\n",
              "      padding: 0 0 0 0;\n",
              "      width: 32px;\n",
              "    }\n",
              "\n",
              "    .colab-df-convert:hover {\n",
              "      background-color: #E2EBFA;\n",
              "      box-shadow: 0px 1px 2px rgba(60, 64, 67, 0.3), 0px 1px 3px 1px rgba(60, 64, 67, 0.15);\n",
              "      fill: #174EA6;\n",
              "    }\n",
              "\n",
              "    [theme=dark] .colab-df-convert {\n",
              "      background-color: #3B4455;\n",
              "      fill: #D2E3FC;\n",
              "    }\n",
              "\n",
              "    [theme=dark] .colab-df-convert:hover {\n",
              "      background-color: #434B5C;\n",
              "      box-shadow: 0px 1px 3px 1px rgba(0, 0, 0, 0.15);\n",
              "      filter: drop-shadow(0px 1px 2px rgba(0, 0, 0, 0.3));\n",
              "      fill: #FFFFFF;\n",
              "    }\n",
              "  </style>\n",
              "\n",
              "      <script>\n",
              "        const buttonEl =\n",
              "          document.querySelector('#df-a4358c04-ba25-42ae-8c9d-b164a8db6d2f button.colab-df-convert');\n",
              "        buttonEl.style.display =\n",
              "          google.colab.kernel.accessAllowed ? 'block' : 'none';\n",
              "\n",
              "        async function convertToInteractive(key) {\n",
              "          const element = document.querySelector('#df-a4358c04-ba25-42ae-8c9d-b164a8db6d2f');\n",
              "          const dataTable =\n",
              "            await google.colab.kernel.invokeFunction('convertToInteractive',\n",
              "                                                     [key], {});\n",
              "          if (!dataTable) return;\n",
              "\n",
              "          const docLinkHtml = 'Like what you see? Visit the ' +\n",
              "            '<a target=\"_blank\" href=https://colab.research.google.com/notebooks/data_table.ipynb>data table notebook</a>'\n",
              "            + ' to learn more about interactive tables.';\n",
              "          element.innerHTML = '';\n",
              "          dataTable['output_type'] = 'display_data';\n",
              "          await google.colab.output.renderOutput(dataTable, element);\n",
              "          const docLink = document.createElement('div');\n",
              "          docLink.innerHTML = docLinkHtml;\n",
              "          element.appendChild(docLink);\n",
              "        }\n",
              "      </script>\n",
              "    </div>\n",
              "  </div>\n",
              "  "
            ]
          },
          "metadata": {},
          "execution_count": 21
        }
      ]
    },
    {
      "cell_type": "code",
      "source": [
        "df.columns"
      ],
      "metadata": {
        "colab": {
          "base_uri": "https://localhost:8080/"
        },
        "id": "W2MEDf5MWYOQ",
        "outputId": "beffd97f-6b4b-490c-fb26-5220c05475ac"
      },
      "execution_count": 22,
      "outputs": [
        {
          "output_type": "execute_result",
          "data": {
            "text/plain": [
              "Index(['airline', 'stoppage', 'price1', 'time_taken1', 'class', 'Dep_day',\n",
              "       'Dep_month', 'Dep_hour', 'Dep_min', 'Arr_hour', 'Arr_min',\n",
              "       'from_Bangalore', 'from_Chennai', 'from_Delhi', 'from_Hyderabad',\n",
              "       'from_Kolkata', 'from_Mumbai', 'to_Bangalore', 'to_Chennai', 'to_Delhi',\n",
              "       'to_Hyderabad', 'to_Kolkata', 'to_Mumbai'],\n",
              "      dtype='object')"
            ]
          },
          "metadata": {},
          "execution_count": 22
        }
      ]
    },
    {
      "cell_type": "markdown",
      "source": [
        "TRAIN TEST SPLIT AND TRAINNING OF THE MODELS"
      ],
      "metadata": {
        "id": "HsOnT1x4qzYq"
      }
    },
    {
      "cell_type": "code",
      "source": [
        "from sklearn.model_selection import train_test_split\n",
        "\n",
        "X = df.drop(columns =[\"price1\"])\n",
        "y = df['price1']\n",
        "X_train,X_test,y_train,y_test = train_test_split(X,y,test_size =0.2,random_state=42)"
      ],
      "metadata": {
        "id": "OO-c6G1aJObk"
      },
      "execution_count": 23,
      "outputs": []
    },
    {
      "cell_type": "code",
      "source": [
        "from sklearn.neighbors import KNeighborsRegressor\n",
        "from sklearn.ensemble import ExtraTreesRegressor\n",
        "from sklearn.metrics import r2_score"
      ],
      "metadata": {
        "id": "w6w6JkqVHHM0"
      },
      "execution_count": 24,
      "outputs": []
    },
    {
      "cell_type": "code",
      "source": [
        "modelKNN = KNeighborsRegressor()\n",
        "modelETR = ExtraTreesRegressor()"
      ],
      "metadata": {
        "id": "oo4SemviHKHg"
      },
      "execution_count": 25,
      "outputs": []
    },
    {
      "cell_type": "code",
      "source": [
        "MM = [modelETR,modelKNN]\n",
        "\n",
        "MM1 = [str(x) for x in MM]\n",
        "a = []\n",
        "for model in MM:\n",
        "  \n",
        "    model.fit(X_train, y_train)\n",
        "    \n",
        "    y_pred = model.predict(X_test)\n",
        " \n",
        "    a.append(r2_score(y_test , y_pred))"
      ],
      "metadata": {
        "id": "g1Ajs5woH5r4"
      },
      "execution_count": 26,
      "outputs": []
    },
    {
      "cell_type": "markdown",
      "source": [
        "CONVERTING THE R2_SCORE INTO A DATAFRAME "
      ],
      "metadata": {
        "id": "jAZLksxXqtRr"
      }
    },
    {
      "cell_type": "code",
      "source": [
        "d = pd.DataFrame({\"Model_name\":MM1,\"r2_score\":a})\n",
        "d\n"
      ],
      "metadata": {
        "id": "iVHYo0xeKqko",
        "colab": {
          "base_uri": "https://localhost:8080/",
          "height": 112
        },
        "outputId": "e4d87b29-9d46-475a-a225-a2a500a37625"
      },
      "execution_count": 27,
      "outputs": [
        {
          "output_type": "execute_result",
          "data": {
            "text/plain": [
              "              Model_name  r2_score\n",
              "0  ExtraTreesRegressor()  0.954943\n",
              "1  KNeighborsRegressor()  0.441214"
            ],
            "text/html": [
              "\n",
              "  <div id=\"df-34a88267-61bd-4d3d-a86d-f662c3d106f2\">\n",
              "    <div class=\"colab-df-container\">\n",
              "      <div>\n",
              "<style scoped>\n",
              "    .dataframe tbody tr th:only-of-type {\n",
              "        vertical-align: middle;\n",
              "    }\n",
              "\n",
              "    .dataframe tbody tr th {\n",
              "        vertical-align: top;\n",
              "    }\n",
              "\n",
              "    .dataframe thead th {\n",
              "        text-align: right;\n",
              "    }\n",
              "</style>\n",
              "<table border=\"1\" class=\"dataframe\">\n",
              "  <thead>\n",
              "    <tr style=\"text-align: right;\">\n",
              "      <th></th>\n",
              "      <th>Model_name</th>\n",
              "      <th>r2_score</th>\n",
              "    </tr>\n",
              "  </thead>\n",
              "  <tbody>\n",
              "    <tr>\n",
              "      <th>0</th>\n",
              "      <td>ExtraTreesRegressor()</td>\n",
              "      <td>0.954943</td>\n",
              "    </tr>\n",
              "    <tr>\n",
              "      <th>1</th>\n",
              "      <td>KNeighborsRegressor()</td>\n",
              "      <td>0.441214</td>\n",
              "    </tr>\n",
              "  </tbody>\n",
              "</table>\n",
              "</div>\n",
              "      <button class=\"colab-df-convert\" onclick=\"convertToInteractive('df-34a88267-61bd-4d3d-a86d-f662c3d106f2')\"\n",
              "              title=\"Convert this dataframe to an interactive table.\"\n",
              "              style=\"display:none;\">\n",
              "        \n",
              "  <svg xmlns=\"http://www.w3.org/2000/svg\" height=\"24px\"viewBox=\"0 0 24 24\"\n",
              "       width=\"24px\">\n",
              "    <path d=\"M0 0h24v24H0V0z\" fill=\"none\"/>\n",
              "    <path d=\"M18.56 5.44l.94 2.06.94-2.06 2.06-.94-2.06-.94-.94-2.06-.94 2.06-2.06.94zm-11 1L8.5 8.5l.94-2.06 2.06-.94-2.06-.94L8.5 2.5l-.94 2.06-2.06.94zm10 10l.94 2.06.94-2.06 2.06-.94-2.06-.94-.94-2.06-.94 2.06-2.06.94z\"/><path d=\"M17.41 7.96l-1.37-1.37c-.4-.4-.92-.59-1.43-.59-.52 0-1.04.2-1.43.59L10.3 9.45l-7.72 7.72c-.78.78-.78 2.05 0 2.83L4 21.41c.39.39.9.59 1.41.59.51 0 1.02-.2 1.41-.59l7.78-7.78 2.81-2.81c.8-.78.8-2.07 0-2.86zM5.41 20L4 18.59l7.72-7.72 1.47 1.35L5.41 20z\"/>\n",
              "  </svg>\n",
              "      </button>\n",
              "      \n",
              "  <style>\n",
              "    .colab-df-container {\n",
              "      display:flex;\n",
              "      flex-wrap:wrap;\n",
              "      gap: 12px;\n",
              "    }\n",
              "\n",
              "    .colab-df-convert {\n",
              "      background-color: #E8F0FE;\n",
              "      border: none;\n",
              "      border-radius: 50%;\n",
              "      cursor: pointer;\n",
              "      display: none;\n",
              "      fill: #1967D2;\n",
              "      height: 32px;\n",
              "      padding: 0 0 0 0;\n",
              "      width: 32px;\n",
              "    }\n",
              "\n",
              "    .colab-df-convert:hover {\n",
              "      background-color: #E2EBFA;\n",
              "      box-shadow: 0px 1px 2px rgba(60, 64, 67, 0.3), 0px 1px 3px 1px rgba(60, 64, 67, 0.15);\n",
              "      fill: #174EA6;\n",
              "    }\n",
              "\n",
              "    [theme=dark] .colab-df-convert {\n",
              "      background-color: #3B4455;\n",
              "      fill: #D2E3FC;\n",
              "    }\n",
              "\n",
              "    [theme=dark] .colab-df-convert:hover {\n",
              "      background-color: #434B5C;\n",
              "      box-shadow: 0px 1px 3px 1px rgba(0, 0, 0, 0.15);\n",
              "      filter: drop-shadow(0px 1px 2px rgba(0, 0, 0, 0.3));\n",
              "      fill: #FFFFFF;\n",
              "    }\n",
              "  </style>\n",
              "\n",
              "      <script>\n",
              "        const buttonEl =\n",
              "          document.querySelector('#df-34a88267-61bd-4d3d-a86d-f662c3d106f2 button.colab-df-convert');\n",
              "        buttonEl.style.display =\n",
              "          google.colab.kernel.accessAllowed ? 'block' : 'none';\n",
              "\n",
              "        async function convertToInteractive(key) {\n",
              "          const element = document.querySelector('#df-34a88267-61bd-4d3d-a86d-f662c3d106f2');\n",
              "          const dataTable =\n",
              "            await google.colab.kernel.invokeFunction('convertToInteractive',\n",
              "                                                     [key], {});\n",
              "          if (!dataTable) return;\n",
              "\n",
              "          const docLinkHtml = 'Like what you see? Visit the ' +\n",
              "            '<a target=\"_blank\" href=https://colab.research.google.com/notebooks/data_table.ipynb>data table notebook</a>'\n",
              "            + ' to learn more about interactive tables.';\n",
              "          element.innerHTML = '';\n",
              "          dataTable['output_type'] = 'display_data';\n",
              "          await google.colab.output.renderOutput(dataTable, element);\n",
              "          const docLink = document.createElement('div');\n",
              "          docLink.innerHTML = docLinkHtml;\n",
              "          element.appendChild(docLink);\n",
              "        }\n",
              "      </script>\n",
              "    </div>\n",
              "  </div>\n",
              "  "
            ]
          },
          "metadata": {},
          "execution_count": 27
        }
      ]
    },
    {
      "cell_type": "markdown",
      "source": [
        "CHOOSING EXTRA TREE REGRESSOR AND DUMPING IT USING PICKLE LIBRARY"
      ],
      "metadata": {
        "id": "rT1lKkzB8RvN"
      }
    },
    {
      "cell_type": "code",
      "source": [
        "import pickle\n",
        "pickle.dump(modelETR,open('model1,pkl','wb'))"
      ],
      "metadata": {
        "id": "0wIWCn_I79Ap"
      },
      "execution_count": null,
      "outputs": []
    }
  ]
}